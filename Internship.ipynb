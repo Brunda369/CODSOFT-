{
  "nbformat": 4,
  "nbformat_minor": 0,
  "metadata": {
    "colab": {
      "provenance": []
    },
    "kernelspec": {
      "name": "python3",
      "display_name": "Python 3"
    },
    "language_info": {
      "name": "python"
    }
  },
  "cells": [
    {
      "cell_type": "markdown",
      "source": [
        "# MOVIE GENRE CLASSIFICATION"
      ],
      "metadata": {
        "id": "9BvKT9PSd-vu"
      }
    },
    {
      "cell_type": "code",
      "source": [
        "import pandas as pd\n",
        "\n",
        "# Function to parse each line\n",
        "def parse_line(line):\n",
        "    parts = line.strip().split(\" ::: \")\n",
        "    if len(parts) == 4:\n",
        "        return {\n",
        "            \"id\": int(parts[0]),\n",
        "            \"title\": parts[1],\n",
        "            \"genre\": parts[2],\n",
        "            \"plot\": parts[3]\n",
        "        }\n",
        "    return None\n",
        "\n",
        "# Read and parse file\n",
        "train_data = []\n",
        "with open(\"/content/train_data.txt\", \"r\", encoding=\"utf-8\") as file:\n",
        "    for line in file:\n",
        "        parsed = parse_line(line)\n",
        "        if parsed:\n",
        "            train_data.append(parsed)\n",
        "\n",
        "# Create DataFrame\n",
        "train_df = pd.DataFrame(train_data)\n",
        "print(train_df.head())\n"
      ],
      "metadata": {
        "colab": {
          "base_uri": "https://localhost:8080/"
        },
        "id": "I42a6n3MSpvw",
        "outputId": "ef6ce365-937c-43f2-a27a-3bf7e36f8d3f"
      },
      "execution_count": 2,
      "outputs": [
        {
          "output_type": "stream",
          "name": "stdout",
          "text": [
            "   id                             title     genre  \\\n",
            "0   1      Oscar et la dame rose (2009)     drama   \n",
            "1   2                      Cupid (1997)  thriller   \n",
            "2   3  Young, Wild and Wonderful (1980)     adult   \n",
            "3   4             The Secret Sin (1915)     drama   \n",
            "4   5            The Unrecovered (2007)     drama   \n",
            "\n",
            "                                                plot  \n",
            "0  Listening in to a conversation between his doc...  \n",
            "1  A brother and sister with a past incestuous re...  \n",
            "2  As the bus empties the students for their fiel...  \n",
            "3  To help their unemployed father make ends meet...  \n",
            "4  The film's title refers not only to the un-rec...  \n"
          ]
        }
      ]
    },
    {
      "cell_type": "code",
      "source": [
        "from sklearn.feature_extraction.text import TfidfVectorizer\n",
        "from sklearn.model_selection import train_test_split\n",
        "\n",
        "# Extract features and labels\n",
        "X = train_df['plot']\n",
        "y = train_df['genre']\n",
        "\n",
        "# TF-IDF Vectorizer\n",
        "vectorizer = TfidfVectorizer(stop_words='english', max_features=5000)\n",
        "X_tfidf = vectorizer.fit_transform(X)\n",
        "\n",
        "# Train-test split for validation\n",
        "X_train, X_val, y_train, y_val = train_test_split(X_tfidf, y, test_size=0.2, random_state=42)\n"
      ],
      "metadata": {
        "id": "4798ORjtSt9S"
      },
      "execution_count": null,
      "outputs": []
    },
    {
      "cell_type": "code",
      "source": [
        "from sklearn.naive_bayes import MultinomialNB\n",
        "\n",
        "# Extract features and labels\n",
        "X = train_df['plot']\n",
        "y = train_df['genre']\n",
        "\n",
        "# TF-IDF Vectorizer\n",
        "vectorizer = TfidfVectorizer(stop_words='english', max_features=5000)\n",
        "X_tfidf = vectorizer.fit_transform(X)\n",
        "\n",
        "\n",
        "# Train a Naive Bayes classifier (or load your previous model if saved)\n",
        "clf = MultinomialNB()  # This was likely the original model\n",
        "clf.fit(X_tfidf, y)    # Re-train or use X_train, y_train if you split\n",
        "\n",
        "# Now continue with your test data loading and prediction\n",
        "# Load test data\n",
        "test_plots = []\n",
        "test_ids = []\n",
        "\n",
        "with open(\"/content/test_data.txt\", \"r\", encoding=\"utf-8\") as file:\n",
        "    for line in file:\n",
        "        parts = line.strip().split(\" ::: \")\n",
        "        if len(parts) == 3:\n",
        "            test_ids.append(int(parts[0]))\n",
        "            test_plots.append(parts[2])\n",
        "\n",
        "# Transform test plots using the same vectorizer\n",
        "X_test_tfidf = vectorizer.transform(test_plots)\n",
        "\n",
        "# Predict genres\n",
        "test_predictions = clf.predict(X_test_tfidf)\n",
        "\n",
        "# Save results\n",
        "submission = pd.DataFrame({\n",
        "    \"id\": test_ids,\n",
        "    \"predicted_genre\": test_predictions\n",
        "})\n",
        "\n",
        "submission.to_csv(\"genre_predictions.csv\", index=False)\n"
      ],
      "metadata": {
        "id": "vFQMs0PRYqQ7"
      },
      "execution_count": null,
      "outputs": []
    },
    {
      "cell_type": "code",
      "source": [
        "# Load labeled test data (like train data)\n",
        "solution_data = []\n",
        "\n",
        "with open(\"/content/test_data_solution.txt\", \"r\", encoding=\"utf-8\") as file:\n",
        "    for line in file:\n",
        "        parts = line.strip().split(\" ::: \")\n",
        "        if len(parts) == 4:\n",
        "            solution_data.append({\n",
        "                \"id\": int(parts[0]),\n",
        "                \"title\": parts[1],\n",
        "                \"genre\": parts[2],\n",
        "                \"plot\": parts[3]\n",
        "            })\n",
        "\n",
        "# Create DataFrame\n",
        "solution_df = pd.DataFrame(solution_data)\n",
        "solution_df['id'] = solution_df['id'].astype(str)  # Ensure ID is str\n",
        "#print(solution_df.head())\n"
      ],
      "metadata": {
        "id": "SQDA4B5rZma4"
      },
      "execution_count": null,
      "outputs": []
    },
    {
      "cell_type": "code",
      "source": [
        "# Transform the test plots using TF-IDF\n",
        "X_test = vectorizer.transform(solution_df['plot'])\n",
        "\n",
        "# Predict genres\n",
        "predicted_genres = clf.predict(X_test)\n",
        "\n",
        "# Add to solution_df\n",
        "solution_df['predicted_genre'] = predicted_genres"
      ],
      "metadata": {
        "id": "Ykav4-xaZ5e4"
      },
      "execution_count": null,
      "outputs": []
    },
    {
      "cell_type": "code",
      "source": [
        "from sklearn.metrics import accuracy_score, classification_report\n",
        "\n",
        "print(\"Accuracy:\", accuracy_score(solution_df['genre'], solution_df['predicted_genre']))\n",
        "print(classification_report(solution_df['genre'], solution_df['predicted_genre']))\n"
      ],
      "metadata": {
        "colab": {
          "base_uri": "https://localhost:8080/"
        },
        "id": "V4qn9alZbtn_",
        "outputId": "33437072-a2d8-41d4-8abf-22e499b832c1"
      },
      "execution_count": null,
      "outputs": [
        {
          "output_type": "stream",
          "name": "stdout",
          "text": [
            "Accuracy: 0.5239483394833948\n"
          ]
        },
        {
          "output_type": "stream",
          "name": "stderr",
          "text": [
            "/usr/local/lib/python3.11/dist-packages/sklearn/metrics/_classification.py:1565: UndefinedMetricWarning: Precision is ill-defined and being set to 0.0 in labels with no predicted samples. Use `zero_division` parameter to control this behavior.\n",
            "  _warn_prf(average, modifier, f\"{metric.capitalize()} is\", len(result))\n",
            "/usr/local/lib/python3.11/dist-packages/sklearn/metrics/_classification.py:1565: UndefinedMetricWarning: Precision is ill-defined and being set to 0.0 in labels with no predicted samples. Use `zero_division` parameter to control this behavior.\n",
            "  _warn_prf(average, modifier, f\"{metric.capitalize()} is\", len(result))\n"
          ]
        },
        {
          "output_type": "stream",
          "name": "stdout",
          "text": [
            "              precision    recall  f1-score   support\n",
            "\n",
            "      action       0.54      0.11      0.18      1314\n",
            "       adult       0.50      0.06      0.11       590\n",
            "   adventure       0.81      0.07      0.13       775\n",
            "   animation       0.00      0.00      0.00       498\n",
            "   biography       0.00      0.00      0.00       264\n",
            "      comedy       0.51      0.42      0.46      7446\n",
            "       crime       0.00      0.00      0.00       505\n",
            " documentary       0.57      0.87      0.69     13096\n",
            "       drama       0.46      0.82      0.59     13612\n",
            "      family       0.50      0.00      0.00       783\n",
            "     fantasy       0.00      0.00      0.00       322\n",
            "   game-show       0.98      0.32      0.48       193\n",
            "     history       0.00      0.00      0.00       243\n",
            "      horror       0.69      0.36      0.47      2204\n",
            "       music       0.74      0.15      0.25       731\n",
            "     musical       0.00      0.00      0.00       276\n",
            "     mystery       0.00      0.00      0.00       318\n",
            "        news       0.00      0.00      0.00       181\n",
            "  reality-tv       0.57      0.02      0.05       883\n",
            "     romance       0.00      0.00      0.00       672\n",
            "      sci-fi       0.64      0.06      0.11       646\n",
            "       short       0.58      0.12      0.20      5072\n",
            "       sport       0.81      0.10      0.18       431\n",
            "   talk-show       0.00      0.00      0.00       391\n",
            "    thriller       0.29      0.02      0.03      1590\n",
            "         war       0.00      0.00      0.00       132\n",
            "     western       0.94      0.62      0.75      1032\n",
            "\n",
            "    accuracy                           0.52     54200\n",
            "   macro avg       0.38      0.15      0.17     54200\n",
            "weighted avg       0.51      0.52      0.45     54200\n",
            "\n"
          ]
        },
        {
          "output_type": "stream",
          "name": "stderr",
          "text": [
            "/usr/local/lib/python3.11/dist-packages/sklearn/metrics/_classification.py:1565: UndefinedMetricWarning: Precision is ill-defined and being set to 0.0 in labels with no predicted samples. Use `zero_division` parameter to control this behavior.\n",
            "  _warn_prf(average, modifier, f\"{metric.capitalize()} is\", len(result))\n"
          ]
        }
      ]
    },
    {
      "cell_type": "markdown",
      "source": [
        "Using Linear SVM TO increase the accuracy"
      ],
      "metadata": {
        "id": "IarDpVTugeN3"
      }
    },
    {
      "cell_type": "code",
      "source": [
        "from sklearn.model_selection import GridSearchCV\n",
        "from sklearn.svm import LinearSVC # Import LinearSVC\n",
        "\n",
        "param_grid = {'C': [0.1, 1, 10], 'penalty': ['l1', 'l2']}\n",
        "grid_search = GridSearchCV(LinearSVC(), param_grid, cv=5)\n",
        "grid_search.fit(X_train, y_train)\n",
        "best_clf = grid_search.best_estimator_"
      ],
      "metadata": {
        "colab": {
          "base_uri": "https://localhost:8080/"
        },
        "id": "97WrNQsqG-W3",
        "outputId": "fefc4520-8a03-4a54-c742-301aeea1f8f7"
      },
      "execution_count": null,
      "outputs": [
        {
          "output_type": "stream",
          "name": "stderr",
          "text": [
            "/usr/local/lib/python3.11/dist-packages/sklearn/svm/_base.py:1249: ConvergenceWarning: Liblinear failed to converge, increase the number of iterations.\n",
            "  warnings.warn(\n",
            "/usr/local/lib/python3.11/dist-packages/sklearn/svm/_base.py:1249: ConvergenceWarning: Liblinear failed to converge, increase the number of iterations.\n",
            "  warnings.warn(\n",
            "/usr/local/lib/python3.11/dist-packages/sklearn/svm/_base.py:1249: ConvergenceWarning: Liblinear failed to converge, increase the number of iterations.\n",
            "  warnings.warn(\n",
            "/usr/local/lib/python3.11/dist-packages/sklearn/svm/_base.py:1249: ConvergenceWarning: Liblinear failed to converge, increase the number of iterations.\n",
            "  warnings.warn(\n",
            "/usr/local/lib/python3.11/dist-packages/sklearn/svm/_base.py:1249: ConvergenceWarning: Liblinear failed to converge, increase the number of iterations.\n",
            "  warnings.warn(\n"
          ]
        }
      ]
    },
    {
      "cell_type": "code",
      "source": [
        "from sklearn.pipeline import Pipeline\n",
        "\n",
        "# Combine plot and title features\n",
        "X = df[['plot', 'genre']]\n",
        "\n",
        "# Create a pipeline with TF-IDF and classifier\n",
        "pipeline = Pipeline([\n",
        "    ('tfidf', TfidfVectorizer(stop_words='english', max_features=5000)),\n",
        "    ('clf', LinearSVC())\n",
        "])\n",
        "\n",
        "# Train and evaluate the pipeline\n"
      ],
      "metadata": {
        "id": "5O98I_LqanuV"
      },
      "execution_count": null,
      "outputs": []
    },
    {
      "cell_type": "code",
      "source": [
        "\n",
        "\n",
        "import pandas as pd\n",
        "# Fit the best classifier to the entire training data\n",
        "best_clf.fit(X_tfidf, y)\n",
        "\n",
        "# Predict on the test data using the best classifier\n",
        "predicted_genres_best = best_clf.predict(X_test)\n",
        "\n",
        "# Create a submission DataFrame with the best classifier's predictions\n",
        "submission_best = pd.DataFrame({\n",
        "    \"id\": test_ids,\n",
        "    \"predicted_genre\": predicted_genres_best\n",
        "})\n",
        "\n",
        "# Save the results to a CSV file\n",
        "submission_best.to_csv(\"genre_predictions_best.csv\", index=False)\n",
        "\n",
        "# Evaluate the best classifier on the solution data\n",
        "predicted_genres_best_solution = best_clf.predict(X_test)\n",
        "\n",
        "# Add the predictions to the solution DataFrame\n",
        "solution_df['predicted_genre_best'] = predicted_genres_best_solution\n",
        "\n",
        "# Print the accuracy and classification report for the best classifier\n",
        "print(\"Accuracy (Best Classifier):\", accuracy_score(solution_df['genre'], solution_df['predicted_genre_best']))\n",
        "print(classification_report(solution_df['genre'], solution_df['predicted_genre_best']))\n",
        "\n",
        "X_train_text, X_val_text, y_train, y_val = train_test_split(\n",
        "    X['plot'], X['genre'], test_size=0.2, random_state=42\n",
        ")\n",
        "\n",
        "pipeline.fit(X_train_text, y_train)  # Use raw text for fitting the pipeline\n",
        "y_pred_pipeline = pipeline.predict(X_val_text)  # Use raw text for prediction\n",
        "print(f\"Pipeline accuracy: {accuracy_score(y_val, y_pred_pipeline)}\")\n"
      ],
      "metadata": {
        "colab": {
          "base_uri": "https://localhost:8080/"
        },
        "id": "OpbI_srXe_eh",
        "outputId": "40c0d8ff-385c-4a3a-d2c5-7b30d36a8ee3"
      },
      "execution_count": null,
      "outputs": [
        {
          "output_type": "stream",
          "name": "stdout",
          "text": [
            "Accuracy (Best Classifier): 0.580959409594096\n"
          ]
        },
        {
          "output_type": "stream",
          "name": "stderr",
          "text": [
            "/usr/local/lib/python3.11/dist-packages/sklearn/metrics/_classification.py:1565: UndefinedMetricWarning: Precision is ill-defined and being set to 0.0 in labels with no predicted samples. Use `zero_division` parameter to control this behavior.\n",
            "  _warn_prf(average, modifier, f\"{metric.capitalize()} is\", len(result))\n",
            "/usr/local/lib/python3.11/dist-packages/sklearn/metrics/_classification.py:1565: UndefinedMetricWarning: Precision is ill-defined and being set to 0.0 in labels with no predicted samples. Use `zero_division` parameter to control this behavior.\n",
            "  _warn_prf(average, modifier, f\"{metric.capitalize()} is\", len(result))\n",
            "/usr/local/lib/python3.11/dist-packages/sklearn/metrics/_classification.py:1565: UndefinedMetricWarning: Precision is ill-defined and being set to 0.0 in labels with no predicted samples. Use `zero_division` parameter to control this behavior.\n",
            "  _warn_prf(average, modifier, f\"{metric.capitalize()} is\", len(result))\n"
          ]
        },
        {
          "output_type": "stream",
          "name": "stdout",
          "text": [
            "              precision    recall  f1-score   support\n",
            "\n",
            "      action       0.48      0.26      0.34      1314\n",
            "       adult       0.62      0.26      0.37       590\n",
            "   adventure       0.62      0.15      0.25       775\n",
            "   animation       0.48      0.06      0.11       498\n",
            "   biography       0.00      0.00      0.00       264\n",
            "      comedy       0.53      0.56      0.54      7446\n",
            "       crime       0.37      0.02      0.04       505\n",
            " documentary       0.65      0.87      0.75     13096\n",
            "       drama       0.54      0.77      0.64     13612\n",
            "      family       0.56      0.07      0.12       783\n",
            "     fantasy       0.57      0.05      0.09       322\n",
            "   game-show       0.75      0.60      0.67       193\n",
            "     history       0.00      0.00      0.00       243\n",
            "      horror       0.60      0.61      0.60      2204\n",
            "       music       0.64      0.46      0.53       731\n",
            "     musical       0.29      0.01      0.03       276\n",
            "     mystery       0.33      0.01      0.01       318\n",
            "        news       0.73      0.06      0.11       181\n",
            "  reality-tv       0.52      0.13      0.21       883\n",
            "     romance       0.60      0.00      0.01       672\n",
            "      sci-fi       0.54      0.26      0.35       646\n",
            "       short       0.50      0.29      0.36      5072\n",
            "       sport       0.67      0.26      0.37       431\n",
            "   talk-show       0.57      0.14      0.22       391\n",
            "    thriller       0.39      0.10      0.16      1590\n",
            "         war       0.67      0.02      0.03       132\n",
            "     western       0.83      0.80      0.81      1032\n",
            "\n",
            "    accuracy                           0.58     54200\n",
            "   macro avg       0.52      0.25      0.29     54200\n",
            "weighted avg       0.56      0.58      0.54     54200\n",
            "\n",
            "Pipeline accuracy: 0.5704140920409481\n"
          ]
        }
      ]
    },
    {
      "cell_type": "code",
      "source": [],
      "metadata": {
        "id": "S5sV5F_q_YtY"
      },
      "execution_count": null,
      "outputs": []
    },
    {
      "cell_type": "markdown",
      "source": [
        "# CREDIT CARD FRAUD DETECTION"
      ],
      "metadata": {
        "id": "7iXtXU3Tdpv9"
      }
    },
    {
      "cell_type": "code",
      "source": [
        "import pandas as pd\n",
        "from sklearn.model_selection import train_test_split\n",
        "from sklearn.ensemble import RandomForestClassifier\n",
        "from sklearn.metrics import classification_report, confusion_matrix, accuracy_score\n",
        "from sklearn.preprocessing import StandardScaler, LabelEncoder\n",
        "from sklearn.impute import SimpleImputer\n",
        "\n",
        "# Load your customer churn data\n",
        "try:\n",
        "    df = pd.read_csv('/content/Churn_Modelling.csv')  # Replace with your file path\n",
        "except FileNotFoundError:\n",
        "    print(\"Error: 'customer_churn.csv' not found. Please upload your data file.\")\n",
        "    exit()\n",
        "\n",
        "# Print the column names to identify the correct target variable name\n",
        "print(df.columns)\n",
        "\n",
        "# Data preprocessing\n",
        "# Identify numerical and categorical features\n",
        "numerical_cols = df.select_dtypes(include=['number']).columns\n",
        "categorical_cols = df.select_dtypes(include=['object']).columns\n",
        "\n",
        "# Remove the target column ('Exited') from numerical_cols if it's there\n",
        "numerical_cols = numerical_cols.drop('Exited', errors='ignore')\n",
        "\n",
        "\n",
        "# Handle missing values\n",
        "imputer = SimpleImputer(strategy='mean')\n",
        "df[numerical_cols] = imputer.fit_transform(df[numerical_cols])\n",
        "\n",
        "# Encode categorical features\n",
        "label_encoders = {}\n",
        "for col in categorical_cols:\n",
        "    le = LabelEncoder()\n",
        "    df[col] = le.fit_transform(df[col].astype(str))\n",
        "    label_encoders[col] = le\n",
        "\n",
        "# Feature Scaling\n",
        "scaler = StandardScaler()\n",
        "df[numerical_cols] = scaler.fit_transform(df[numerical_cols])\n",
        "\n",
        "\n",
        "X = df.drop('Exited', axis=1)  # 'Exited' is the target column, representing churn\n",
        "y = df['Exited']  # 'Exited' should be binary (0 or 1)\n",
        "\n",
        "# Split the data into training and testing sets\n",
        "X_train, X_test, y_train, y_test = train_test_split(X, y, test_size=0.2, random_state=42)\n",
        "\n",
        "# Initialize and train a RandomForestClassifier\n",
        "model = RandomForestClassifier(n_estimators=100, random_state=42)\n",
        "model.fit(X_train, y_train)\n",
        "\n",
        "# Make predictions on the test set\n",
        "y_pred = model.predict(X_test)\n",
        "\n",
        "# Evaluate the model\n",
        "print(\"Accuracy:\", accuracy_score(y_test, y_pred))\n",
        "print(\"\\nClassification Report:\\n\", classification_report(y_test, y_pred))\n",
        "print(\"\\nConfusion Matrix:\\n\", confusion_matrix(y_test, y_pred))"
      ],
      "metadata": {
        "colab": {
          "base_uri": "https://localhost:8080/"
        },
        "id": "DqxjBtXH7X_n",
        "outputId": "589eb59a-8080-4b7f-8fa3-e13c5165455c"
      },
      "execution_count": null,
      "outputs": [
        {
          "output_type": "stream",
          "name": "stdout",
          "text": [
            "Index(['RowNumber', 'CustomerId', 'Surname', 'CreditScore', 'Geography',\n",
            "       'Gender', 'Age', 'Tenure', 'Balance', 'NumOfProducts', 'HasCrCard',\n",
            "       'IsActiveMember', 'EstimatedSalary', 'Exited'],\n",
            "      dtype='object')\n",
            "Accuracy: 0.8655\n",
            "\n",
            "Classification Report:\n",
            "               precision    recall  f1-score   support\n",
            "\n",
            "           0       0.88      0.97      0.92      1607\n",
            "           1       0.77      0.45      0.57       393\n",
            "\n",
            "    accuracy                           0.87      2000\n",
            "   macro avg       0.82      0.71      0.74      2000\n",
            "weighted avg       0.86      0.87      0.85      2000\n",
            "\n",
            "\n",
            "Confusion Matrix:\n",
            " [[1555   52]\n",
            " [ 217  176]]\n"
          ]
        }
      ]
    },
    {
      "cell_type": "code",
      "source": [],
      "metadata": {
        "id": "OLZqJevpf8WB"
      },
      "execution_count": null,
      "outputs": []
    },
    {
      "cell_type": "markdown",
      "source": [
        "# CUSTOMER CHURN PREDICTION"
      ],
      "metadata": {
        "id": "POzgVhrCdsie"
      }
    },
    {
      "cell_type": "code",
      "source": [
        "\n",
        "import matplotlib.pyplot as plt\n",
        "import seaborn as sns\n",
        "from sklearn.metrics import confusion_matrix\n",
        "from sklearn.preprocessing import StandardScaler # Import StandardScaler\n",
        "\n",
        "rf_model = model\n",
        "\n",
        "scaler = StandardScaler() # Create StandardScaler if not already created\n",
        "X_test_scaled = scaler.fit_transform(X_test) # Scale the test data\n",
        "\n",
        "\n",
        "# Predict on the test set\n",
        "rf_preds = rf_model.predict(X_test_scaled)\n",
        "\n",
        "\n",
        "# Generate confusion matrix\n",
        "cm = confusion_matrix(y_test, rf_preds)\n",
        "\n",
        "# Plot the confusion matrix using seaborn heatmap\n",
        "plt.figure(figsize=(8, 6))\n",
        "sns.heatmap(cm, annot=True, fmt=\"d\", cmap=\"Blues\",\n",
        "            xticklabels=['Not Churn', 'Churn'],\n",
        "            yticklabels=['Not Churn', 'Churn'])\n",
        "plt.xlabel(\"Predicted\")\n",
        "plt.ylabel(\"Actual\")\n",
        "plt.title(\"Confusion Matrix for Random Forest\")\n",
        "plt.show()"
      ],
      "metadata": {
        "colab": {
          "base_uri": "https://localhost:8080/",
          "height": 619
        },
        "id": "pPTY66C87jpw",
        "outputId": "438cf271-c6c6-4ea7-8e83-c564ccccca6a"
      },
      "execution_count": null,
      "outputs": [
        {
          "output_type": "stream",
          "name": "stderr",
          "text": [
            "/usr/local/lib/python3.11/dist-packages/sklearn/utils/validation.py:2739: UserWarning: X does not have valid feature names, but RandomForestClassifier was fitted with feature names\n",
            "  warnings.warn(\n"
          ]
        },
        {
          "output_type": "display_data",
          "data": {
            "text/plain": [
              "<Figure size 800x600 with 2 Axes>"
            ],
            "image/png": "[encoded data removed]"
          },
          "metadata": {}
        }
      ]
    },
    {
      "cell_type": "code",
      "source": [],
      "metadata": {
        "id": "WMNWEodI8N1m"
      },
      "execution_count": null,
      "outputs": []
    },
    {
      "cell_type": "markdown",
      "source": [
        "# SPAM SMS DETECTION"
      ],
      "metadata": {
        "id": "bx3hfph0f-mf"
      }
    },
    {
      "cell_type": "code",
      "source": [
        "\n",
        "import matplotlib.pyplot as plt\n",
        "import pandas as pd\n",
        "from sklearn.model_selection import train_test_split\n",
        "from sklearn.feature_extraction.text import TfidfVectorizer\n",
        "from sklearn.linear_model import LogisticRegression\n",
        "from sklearn.metrics import accuracy_score, classification_report, confusion_matrix\n",
        "\n",
        "# Load the SMS Spam Collection dataset\n",
        "df = pd.read_csv('/content/spam (1).csv', encoding='latin-1')\n",
        "\n",
        "# Select relevant columns and rename them\n",
        "df = df[['v1', 'v2']]\n",
        "df.rename(columns={'v1': 'label', 'v2': 'message'}, inplace=True)\n",
        "\n",
        "# Convert labels to numerical values (0 for ham, 1 for spam)\n",
        "df['label'] = df['label'].map({'ham': 0, 'spam': 1})\n",
        "\n",
        "# Split the data into training and testing sets\n",
        "X_train, X_test, y_train, y_test = train_test_split(df['message'], df['label'], test_size=0.2, random_state=42)\n",
        "\n",
        "# Create a TF-IDF vectorizer\n",
        "vectorizer = TfidfVectorizer()\n",
        "X_train_tfidf = vectorizer.fit_transform(X_train)\n",
        "X_test_tfidf = vectorizer.transform(X_test)\n",
        "\n",
        "# Train a Logistic Regression model\n",
        "model = LogisticRegression()\n",
        "model.fit(X_train_tfidf, y_train)\n",
        "\n",
        "# Make predictions on the test set\n",
        "y_pred = model.predict(X_test_tfidf)\n",
        "\n",
        "# Evaluate the model\n",
        "accuracy = accuracy_score(y_test, y_pred)\n",
        "print(f\"Accuracy: {accuracy}\")\n",
        "print(classification_report(y_test, y_pred))\n",
        "\n",
        "# Example prediction\n",
        "new_message = \"Congratulations! You've won a free prize!\"\n",
        "new_message_tfidf = vectorizer.transform([new_message])\n",
        "predicted_label = model.predict(new_message_tfidf)[0]\n",
        "print(f\"Predicted label for '{new_message}': {'Spam' if predicted_label == 1 else 'Ham'}\")\n",
        "\n",
        "#Plot confusion matrix\n",
        "cm = confusion_matrix(y_test, y_pred)\n",
        "plt.figure(figsize=(8,6))\n",
        "sns.heatmap(cm, annot=True, fmt=\"d\")\n",
        "plt.title('Confusion Matrix')\n",
        "plt.xlabel(\"Predicted\")\n",
        "plt.ylabel(\"Actual\")\n",
        "plt.show()\n"
      ],
      "metadata": {
        "colab": {
          "base_uri": "https://localhost:8080/",
          "height": 755
        },
        "id": "P39LYW_N-NO5",
        "outputId": "98edf8af-4c65-481b-f1c9-6599be57da32"
      },
      "execution_count": null,
      "outputs": [
        {
          "output_type": "stream",
          "name": "stdout",
          "text": [
            "Accuracy: 0.967713004484305\n",
            "              precision    recall  f1-score   support\n",
            "\n",
            "           0       0.96      1.00      0.98       965\n",
            "           1       0.99      0.77      0.86       150\n",
            "\n",
            "    accuracy                           0.97      1115\n",
            "   macro avg       0.98      0.88      0.92      1115\n",
            "weighted avg       0.97      0.97      0.97      1115\n",
            "\n",
            "Predicted label for 'Congratulations! You've won a free prize!': Spam\n"
          ]
        },
        {
          "output_type": "display_data",
          "data": {
            "text/plain": [
              "<Figure size 800x600 with 2 Axes>"
            ],
            "image/png": "[encoded data removed]"
          },
          "metadata": {}
        }
      ]
    },
    {
      "cell_type": "code",
      "source": [],
      "metadata": {
        "id": "ahMQGqEy_1Z5"
      },
      "execution_count": null,
      "outputs": []
    }
  ]
}