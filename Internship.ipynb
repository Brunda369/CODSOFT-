{
  "nbformat": 4,
  "nbformat_minor": 0,
  "metadata": {
    "colab": {
      "provenance": []
    },
    "kernelspec": {
      "name": "python3",
      "display_name": "Python 3"
    },
    "language_info": {
      "name": "python"
    }
  },
  "cells": [
    {
      "cell_type": "code",
      "execution_count": null,
      "metadata": {
        "colab": {
          "base_uri": "https://localhost:8080/"
        },
        "id": "1USu3m-VKcpB",
        "outputId": "92e3eb0e-19b7-40ec-e5bd-d7c5c639442e"
      },
      "outputs": [
        {
          "output_type": "stream",
          "name": "stdout",
          "text": [
            "Accuracy: 1.0\n",
            "Predicted genre for 'A scary movie about a haunted house.': Mystery\n"
          ]
        }
      ],
      "source": [
        "# prompt: Create a machine learning model that can predict the genre of a\n",
        "# movie based on its plot summary or other textual information. You\n",
        "# can use techniques like TF-IDF or word embeddings with classifiers\n",
        "# such as Naive Bayes, Logistic Regression, or Support Vector\n",
        "# Machines.\n",
        "\n",
        "import pandas as pd\n",
        "from sklearn.model_selection import train_test_split\n",
        "from sklearn.feature_extraction.text import TfidfVectorizer\n",
        "from sklearn.naive_bayes import MultinomialNB\n",
        "from sklearn.metrics import accuracy_score\n",
        "\n",
        "# Sample movie data (replace with your actual data)\n",
        "data = {'plot': ['A thrilling action movie with car chases and explosions.',\n",
        "                 'A heartwarming romantic comedy about two strangers.',\n",
        "                 'A suspenseful mystery with unexpected twists.',\n",
        "                 'A scary horror film with jump scares and ghosts.',\n",
        "                 'A captivating science fiction movie about space travel.',\n",
        "                 'A thrilling action movie with car chases and explosions.',\n",
        "                 'A heartwarming romantic comedy about two strangers.',\n",
        "                 'A suspenseful mystery with unexpected twists.'],\n",
        "        'genre': ['Action', 'Romance', 'Mystery', 'Horror', 'Sci-Fi', 'Action', 'Romance', 'Mystery']}\n",
        "df = pd.DataFrame(data)\n",
        "\n",
        "# Preprocess the data\n",
        "X = df['plot']\n",
        "y = df['genre']\n",
        "X_train, X_test, y_train, y_test = train_test_split(X, y, test_size=0.2, random_state=42)\n",
        "\n",
        "# Feature extraction using TF-IDF\n",
        "tfidf = TfidfVectorizer()\n",
        "X_train_tfidf = tfidf.fit_transform(X_train)\n",
        "X_test_tfidf = tfidf.transform(X_test)\n",
        "\n",
        "# Train a Naive Bayes classifier\n",
        "clf = MultinomialNB()\n",
        "clf.fit(X_train_tfidf, y_train)\n",
        "\n",
        "# Make predictions\n",
        "y_pred = clf.predict(X_test_tfidf)\n",
        "\n",
        "# Evaluate the model\n",
        "accuracy = accuracy_score(y_test, y_pred)\n",
        "print(f\"Accuracy: {accuracy}\")\n",
        "\n",
        "# Example prediction\n",
        "new_plot = \"A scary movie about a haunted house.\"\n",
        "new_plot_tfidf = tfidf.transform([new_plot])\n",
        "predicted_genre = clf.predict(new_plot_tfidf)[0]\n",
        "print(f\"Predicted genre for '{new_plot}': {predicted_genre}\")\n"
      ]
    },
    {
      "cell_type": "code",
      "source": [
        "import pandas as pd\n",
        "\n",
        "# Function to parse each line\n",
        "def parse_line(line):\n",
        "    parts = line.strip().split(\" ::: \")\n",
        "    if len(parts) == 4:\n",
        "        return {\n",
        "            \"id\": int(parts[0]),\n",
        "            \"title\": parts[1],\n",
        "            \"genre\": parts[2],\n",
        "            \"plot\": parts[3]\n",
        "        }\n",
        "    return None\n",
        "\n",
        "# Read and parse file\n",
        "train_data = []\n",
        "with open(\"/content/train_data.txt\", \"r\", encoding=\"utf-8\") as file:\n",
        "    for line in file:\n",
        "        parsed = parse_line(line)\n",
        "        if parsed:\n",
        "            train_data.append(parsed)\n",
        "\n",
        "# Create DataFrame\n",
        "train_df = pd.DataFrame(train_data)\n",
        "print(train_df.head())\n"
      ],
      "metadata": {
        "colab": {
          "base_uri": "https://localhost:8080/"
        },
        "id": "I42a6n3MSpvw",
        "outputId": "abd39ab4-1052-426d-b88f-ba8f18eb9610"
      },
      "execution_count": null,
      "outputs": [
        {
          "output_type": "stream",
          "name": "stdout",
          "text": [
            "   id                             title     genre  \\\n",
            "0   1      Oscar et la dame rose (2009)     drama   \n",
            "1   2                      Cupid (1997)  thriller   \n",
            "2   3  Young, Wild and Wonderful (1980)     adult   \n",
            "3   4             The Secret Sin (1915)     drama   \n",
            "4   5            The Unrecovered (2007)     drama   \n",
            "\n",
            "                                                plot  \n",
            "0  Listening in to a conversation between his doc...  \n",
            "1  A brother and sister with a past incestuous re...  \n",
            "2  As the bus empties the students for their fiel...  \n",
            "3  To help their unemployed father make ends meet...  \n",
            "4  The film's title refers not only to the un-rec...  \n"
          ]
        }
      ]
    },
    {
      "cell_type": "code",
      "source": [
        "from sklearn.feature_extraction.text import TfidfVectorizer\n",
        "from sklearn.model_selection import train_test_split\n",
        "\n",
        "# Extract features and labels\n",
        "X = train_df['plot']\n",
        "y = train_df['genre']\n",
        "\n",
        "# TF-IDF Vectorizer\n",
        "vectorizer = TfidfVectorizer(stop_words='english', max_features=5000)\n",
        "X_tfidf = vectorizer.fit_transform(X)\n",
        "\n",
        "# Train-test split for validation\n",
        "X_train, X_val, y_train, y_val = train_test_split(X_tfidf, y, test_size=0.2, random_state=42)\n"
      ],
      "metadata": {
        "id": "4798ORjtSt9S"
      },
      "execution_count": null,
      "outputs": []
    },
    {
      "cell_type": "code",
      "source": [
        "from sklearn.naive_bayes import MultinomialNB\n",
        "\n",
        "# Extract features and labels\n",
        "X = train_df['plot']\n",
        "y = train_df['genre']\n",
        "\n",
        "# TF-IDF Vectorizer\n",
        "vectorizer = TfidfVectorizer(stop_words='english', max_features=5000)\n",
        "X_tfidf = vectorizer.fit_transform(X)\n",
        "\n",
        "# Train-test split for validation (if needed)\n",
        "#X_train, X_val, y_train, y_val = train_test_split(X_tfidf, y, test_size=0.2, random_state=42)\n",
        "\n",
        "# Train a Naive Bayes classifier (or load your previous model if saved)\n",
        "clf = MultinomialNB()  # This was likely the original model\n",
        "clf.fit(X_tfidf, y)    # Re-train or use X_train, y_train if you split\n",
        "\n",
        "# Now continue with your test data loading and prediction\n",
        "# Load test data\n",
        "test_plots = []\n",
        "test_ids = []\n",
        "\n",
        "with open(\"/content/test_data.txt\", \"r\", encoding=\"utf-8\") as file:\n",
        "    for line in file:\n",
        "        parts = line.strip().split(\" ::: \")\n",
        "        if len(parts) == 3:\n",
        "            test_ids.append(int(parts[0]))\n",
        "            test_plots.append(parts[2])\n",
        "\n",
        "# Transform test plots using the same vectorizer\n",
        "X_test_tfidf = vectorizer.transform(test_plots)\n",
        "\n",
        "# Predict genres\n",
        "test_predictions = clf.predict(X_test_tfidf)\n",
        "\n",
        "# Save results\n",
        "submission = pd.DataFrame({\n",
        "    \"id\": test_ids,\n",
        "    \"predicted_genre\": test_predictions\n",
        "})\n",
        "\n",
        "submission.to_csv(\"genre_predictions.csv\", index=False)\n"
      ],
      "metadata": {
        "id": "vFQMs0PRYqQ7"
      },
      "execution_count": null,
      "outputs": []
    },
    {
      "cell_type": "code",
      "source": [
        "# Load labeled test data (like train data)\n",
        "solution_data = []\n",
        "\n",
        "with open(\"/content/test_data_solution.txt\", \"r\", encoding=\"utf-8\") as file:\n",
        "    for line in file:\n",
        "        parts = line.strip().split(\" ::: \")\n",
        "        if len(parts) == 4:\n",
        "            solution_data.append({\n",
        "                \"id\": int(parts[0]),\n",
        "                \"title\": parts[1],\n",
        "                \"genre\": parts[2],\n",
        "                \"plot\": parts[3]\n",
        "            })\n",
        "\n",
        "# Create DataFrame\n",
        "solution_df = pd.DataFrame(solution_data)\n",
        "solution_df['id'] = solution_df['id'].astype(str)  # Ensure ID is str\n",
        "#print(solution_df.head())\n"
      ],
      "metadata": {
        "id": "SQDA4B5rZma4"
      },
      "execution_count": null,
      "outputs": []
    },
    {
      "cell_type": "code",
      "source": [
        "# Transform the test plots using TF-IDF\n",
        "X_test = vectorizer.transform(solution_df['plot'])\n",
        "\n",
        "# Predict genres\n",
        "predicted_genres = clf.predict(X_test)\n",
        "\n",
        "# Add to solution_df\n",
        "solution_df['predicted_genre'] = predicted_genres"
      ],
      "metadata": {
        "id": "Ykav4-xaZ5e4"
      },
      "execution_count": null,
      "outputs": []
    },
    {
      "cell_type": "code",
      "source": [
        "from sklearn.metrics import accuracy_score, classification_report\n",
        "\n",
        "print(\"Accuracy:\", accuracy_score(solution_df['genre'], solution_df['predicted_genre']))\n",
        "print(classification_report(solution_df['genre'], solution_df['predicted_genre']))\n"
      ],
      "metadata": {
        "colab": {
          "base_uri": "https://localhost:8080/"
        },
        "id": "V4qn9alZbtn_",
        "outputId": "33437072-a2d8-41d4-8abf-22e499b832c1"
      },
      "execution_count": null,
      "outputs": [
        {
          "output_type": "stream",
          "name": "stdout",
          "text": [
            "Accuracy: 0.5239483394833948\n"
          ]
        },
        {
          "output_type": "stream",
          "name": "stderr",
          "text": [
            "/usr/local/lib/python3.11/dist-packages/sklearn/metrics/_classification.py:1565: UndefinedMetricWarning: Precision is ill-defined and being set to 0.0 in labels with no predicted samples. Use `zero_division` parameter to control this behavior.\n",
            "  _warn_prf(average, modifier, f\"{metric.capitalize()} is\", len(result))\n",
            "/usr/local/lib/python3.11/dist-packages/sklearn/metrics/_classification.py:1565: UndefinedMetricWarning: Precision is ill-defined and being set to 0.0 in labels with no predicted samples. Use `zero_division` parameter to control this behavior.\n",
            "  _warn_prf(average, modifier, f\"{metric.capitalize()} is\", len(result))\n"
          ]
        },
        {
          "output_type": "stream",
          "name": "stdout",
          "text": [
            "              precision    recall  f1-score   support\n",
            "\n",
            "      action       0.54      0.11      0.18      1314\n",
            "       adult       0.50      0.06      0.11       590\n",
            "   adventure       0.81      0.07      0.13       775\n",
            "   animation       0.00      0.00      0.00       498\n",
            "   biography       0.00      0.00      0.00       264\n",
            "      comedy       0.51      0.42      0.46      7446\n",
            "       crime       0.00      0.00      0.00       505\n",
            " documentary       0.57      0.87      0.69     13096\n",
            "       drama       0.46      0.82      0.59     13612\n",
            "      family       0.50      0.00      0.00       783\n",
            "     fantasy       0.00      0.00      0.00       322\n",
            "   game-show       0.98      0.32      0.48       193\n",
            "     history       0.00      0.00      0.00       243\n",
            "      horror       0.69      0.36      0.47      2204\n",
            "       music       0.74      0.15      0.25       731\n",
            "     musical       0.00      0.00      0.00       276\n",
            "     mystery       0.00      0.00      0.00       318\n",
            "        news       0.00      0.00      0.00       181\n",
            "  reality-tv       0.57      0.02      0.05       883\n",
            "     romance       0.00      0.00      0.00       672\n",
            "      sci-fi       0.64      0.06      0.11       646\n",
            "       short       0.58      0.12      0.20      5072\n",
            "       sport       0.81      0.10      0.18       431\n",
            "   talk-show       0.00      0.00      0.00       391\n",
            "    thriller       0.29      0.02      0.03      1590\n",
            "         war       0.00      0.00      0.00       132\n",
            "     western       0.94      0.62      0.75      1032\n",
            "\n",
            "    accuracy                           0.52     54200\n",
            "   macro avg       0.38      0.15      0.17     54200\n",
            "weighted avg       0.51      0.52      0.45     54200\n",
            "\n"
          ]
        },
        {
          "output_type": "stream",
          "name": "stderr",
          "text": [
            "/usr/local/lib/python3.11/dist-packages/sklearn/metrics/_classification.py:1565: UndefinedMetricWarning: Precision is ill-defined and being set to 0.0 in labels with no predicted samples. Use `zero_division` parameter to control this behavior.\n",
            "  _warn_prf(average, modifier, f\"{metric.capitalize()} is\", len(result))\n"
          ]
        }
      ]
    },
    {
      "cell_type": "code",
      "source": [
        "from sklearn.model_selection import GridSearchCV\n",
        "from sklearn.svm import LinearSVC # Import LinearSVC\n",
        "\n",
        "param_grid = {'C': [0.1, 1, 10], 'penalty': ['l1', 'l2']}\n",
        "grid_search = GridSearchCV(LinearSVC(), param_grid, cv=5)\n",
        "grid_search.fit(X_train, y_train)\n",
        "best_clf = grid_search.best_estimator_"
      ],
      "metadata": {
        "colab": {
          "base_uri": "https://localhost:8080/"
        },
        "id": "97WrNQsqG-W3",
        "outputId": "fefc4520-8a03-4a54-c742-301aeea1f8f7"
      },
      "execution_count": null,
      "outputs": [
        {
          "output_type": "stream",
          "name": "stderr",
          "text": [
            "/usr/local/lib/python3.11/dist-packages/sklearn/svm/_base.py:1249: ConvergenceWarning: Liblinear failed to converge, increase the number of iterations.\n",
            "  warnings.warn(\n",
            "/usr/local/lib/python3.11/dist-packages/sklearn/svm/_base.py:1249: ConvergenceWarning: Liblinear failed to converge, increase the number of iterations.\n",
            "  warnings.warn(\n",
            "/usr/local/lib/python3.11/dist-packages/sklearn/svm/_base.py:1249: ConvergenceWarning: Liblinear failed to converge, increase the number of iterations.\n",
            "  warnings.warn(\n",
            "/usr/local/lib/python3.11/dist-packages/sklearn/svm/_base.py:1249: ConvergenceWarning: Liblinear failed to converge, increase the number of iterations.\n",
            "  warnings.warn(\n",
            "/usr/local/lib/python3.11/dist-packages/sklearn/svm/_base.py:1249: ConvergenceWarning: Liblinear failed to converge, increase the number of iterations.\n",
            "  warnings.warn(\n"
          ]
        }
      ]
    },
    {
      "cell_type": "code",
      "source": [
        "# Assuming you have a 'title' column in your DataFrame\n",
        "from sklearn.pipeline import Pipeline\n",
        "\n",
        "# Combine plot and title features\n",
        "X = df[['plot', 'genre']]\n",
        "\n",
        "# Create a pipeline with TF-IDF and classifier\n",
        "pipeline = Pipeline([\n",
        "    ('tfidf', TfidfVectorizer(stop_words='english', max_features=5000)),\n",
        "    ('clf', LinearSVC())\n",
        "])\n",
        "\n",
        "# Train and evaluate the pipeline\n",
        "# ... (similar to your existing code)"
      ],
      "metadata": {
        "id": "5O98I_LqanuV"
      },
      "execution_count": null,
      "outputs": []
    },
    {
      "cell_type": "code",
      "source": [
        "# prompt: continue the remaining code\n",
        "\n",
        "import pandas as pd\n",
        "# Fit the best classifier to the entire training data\n",
        "best_clf.fit(X_tfidf, y)\n",
        "\n",
        "# Predict on the test data using the best classifier\n",
        "predicted_genres_best = best_clf.predict(X_test)\n",
        "\n",
        "# Create a submission DataFrame with the best classifier's predictions\n",
        "submission_best = pd.DataFrame({\n",
        "    \"id\": test_ids,\n",
        "    \"predicted_genre\": predicted_genres_best\n",
        "})\n",
        "\n",
        "# Save the results to a CSV file\n",
        "submission_best.to_csv(\"genre_predictions_best.csv\", index=False)\n",
        "\n",
        "# Evaluate the best classifier on the solution data\n",
        "predicted_genres_best_solution = best_clf.predict(X_test)\n",
        "\n",
        "# Add the predictions to the solution DataFrame\n",
        "solution_df['predicted_genre_best'] = predicted_genres_best_solution\n",
        "\n",
        "# Print the accuracy and classification report for the best classifier\n",
        "print(\"Accuracy (Best Classifier):\", accuracy_score(solution_df['genre'], solution_df['predicted_genre_best']))\n",
        "print(classification_report(solution_df['genre'], solution_df['predicted_genre_best']))\n",
        "\n",
        "X_train_text, X_val_text, y_train, y_val = train_test_split(\n",
        "    X['plot'], X['genre'], test_size=0.2, random_state=42\n",
        ")\n",
        "\n",
        "pipeline.fit(X_train_text, y_train)  # Use raw text for fitting the pipeline\n",
        "y_pred_pipeline = pipeline.predict(X_val_text)  # Use raw text for prediction\n",
        "print(f\"Pipeline accuracy: {accuracy_score(y_val, y_pred_pipeline)}\")\n"
      ],
      "metadata": {
        "colab": {
          "base_uri": "https://localhost:8080/"
        },
        "id": "OpbI_srXe_eh",
        "outputId": "40c0d8ff-385c-4a3a-d2c5-7b30d36a8ee3"
      },
      "execution_count": null,
      "outputs": [
        {
          "output_type": "stream",
          "name": "stdout",
          "text": [
            "Accuracy (Best Classifier): 0.580959409594096\n"
          ]
        },
        {
          "output_type": "stream",
          "name": "stderr",
          "text": [
            "/usr/local/lib/python3.11/dist-packages/sklearn/metrics/_classification.py:1565: UndefinedMetricWarning: Precision is ill-defined and being set to 0.0 in labels with no predicted samples. Use `zero_division` parameter to control this behavior.\n",
            "  _warn_prf(average, modifier, f\"{metric.capitalize()} is\", len(result))\n",
            "/usr/local/lib/python3.11/dist-packages/sklearn/metrics/_classification.py:1565: UndefinedMetricWarning: Precision is ill-defined and being set to 0.0 in labels with no predicted samples. Use `zero_division` parameter to control this behavior.\n",
            "  _warn_prf(average, modifier, f\"{metric.capitalize()} is\", len(result))\n",
            "/usr/local/lib/python3.11/dist-packages/sklearn/metrics/_classification.py:1565: UndefinedMetricWarning: Precision is ill-defined and being set to 0.0 in labels with no predicted samples. Use `zero_division` parameter to control this behavior.\n",
            "  _warn_prf(average, modifier, f\"{metric.capitalize()} is\", len(result))\n"
          ]
        },
        {
          "output_type": "stream",
          "name": "stdout",
          "text": [
            "              precision    recall  f1-score   support\n",
            "\n",
            "      action       0.48      0.26      0.34      1314\n",
            "       adult       0.62      0.26      0.37       590\n",
            "   adventure       0.62      0.15      0.25       775\n",
            "   animation       0.48      0.06      0.11       498\n",
            "   biography       0.00      0.00      0.00       264\n",
            "      comedy       0.53      0.56      0.54      7446\n",
            "       crime       0.37      0.02      0.04       505\n",
            " documentary       0.65      0.87      0.75     13096\n",
            "       drama       0.54      0.77      0.64     13612\n",
            "      family       0.56      0.07      0.12       783\n",
            "     fantasy       0.57      0.05      0.09       322\n",
            "   game-show       0.75      0.60      0.67       193\n",
            "     history       0.00      0.00      0.00       243\n",
            "      horror       0.60      0.61      0.60      2204\n",
            "       music       0.64      0.46      0.53       731\n",
            "     musical       0.29      0.01      0.03       276\n",
            "     mystery       0.33      0.01      0.01       318\n",
            "        news       0.73      0.06      0.11       181\n",
            "  reality-tv       0.52      0.13      0.21       883\n",
            "     romance       0.60      0.00      0.01       672\n",
            "      sci-fi       0.54      0.26      0.35       646\n",
            "       short       0.50      0.29      0.36      5072\n",
            "       sport       0.67      0.26      0.37       431\n",
            "   talk-show       0.57      0.14      0.22       391\n",
            "    thriller       0.39      0.10      0.16      1590\n",
            "         war       0.67      0.02      0.03       132\n",
            "     western       0.83      0.80      0.81      1032\n",
            "\n",
            "    accuracy                           0.58     54200\n",
            "   macro avg       0.52      0.25      0.29     54200\n",
            "weighted avg       0.56      0.58      0.54     54200\n",
            "\n",
            "Pipeline accuracy: 0.5704140920409481\n"
          ]
        }
      ]
    },
    {
      "cell_type": "code",
      "source": [],
      "metadata": {
        "id": "S5sV5F_q_YtY"
      },
      "execution_count": null,
      "outputs": []
    },
    {
      "cell_type": "code",
      "source": [
        "import pandas as pd\n",
        "import numpy as np\n",
        "from sklearn.model_selection import train_test_split\n",
        "from sklearn.preprocessing import StandardScaler\n",
        "from sklearn.linear_model import LogisticRegression\n",
        "from sklearn.tree import DecisionTreeClassifier\n",
        "from sklearn.ensemble import RandomForestClassifier\n",
        "from sklearn.metrics import classification_report, confusion_matrix, accuracy_score\n",
        "\n",
        "# Load the dataset\n",
        "df = pd.read_csv(\"/content/fraudTrain.csv\")  # Update path if needed\n",
        "\n",
        "# Basic EDA\n",
        "print(df['Class'].value_counts())  # 0 = legitimate, 1 = fraud\n",
        "\n",
        "# Features and Target\n",
        "X = df.drop(['Class'], axis=1)\n",
        "y = df['Class']\n",
        "\n",
        "# Standardize the features\n",
        "scaler = StandardScaler()\n",
        "X_scaled = scaler.fit_transform(X)\n",
        "\n",
        "# Train-Test Split\n",
        "X_train, X_test, y_train, y_test = train_test_split(X_scaled, y, test_size=0.3, stratify=y, random_state=42)\n",
        "\n",
        "# --------------------------\n",
        "# Logistic Regression Model\n",
        "# --------------------------\n",
        "log_model = LogisticRegression(max_iter=1000)\n",
        "log_model.fit(X_train, y_train)\n",
        "log_preds = log_model.predict(X_test)\n",
        "\n",
        "print(\"\\nLogistic Regression:\")\n",
        "print(classification_report(y_test, log_preds))\n",
        "\n",
        "# --------------------------\n",
        "# Decision Tree Model\n",
        "# --------------------------\n",
        "tree_model = DecisionTreeClassifier(max_depth=5, random_state=42)\n",
        "tree_model.fit(X_train, y_train)\n",
        "tree_preds = tree_model.predict(X_test)\n",
        "\n",
        "print(\"\\nDecision Tree:\")\n",
        "print(classification_report(y_test, tree_preds))\n",
        "\n",
        "# --------------------------\n",
        "# Random Forest Model\n",
        "# --------------------------\n",
        "rf_model = RandomForestClassifier(n_estimators=100, random_state=42)\n",
        "rf_model.fit(X_train, y_train)\n",
        "rf_preds = rf_model.predict(X_test)\n",
        "\n",
        "print(\"\\nRandom Forest:\")\n",
        "print(classification_report(y_test, rf_preds))\n",
        "\n",
        "# --------------------------\n",
        "# Confusion Matrix & Accuracy\n",
        "# --------------------------\n",
        "print(\"\\nRandom Forest Confusion Matrix:\\n\", confusion_matrix(y_test, rf_preds))\n",
        "print(\"Random Forest Accuracy:\", accuracy_score(y_test, rf_preds))\n"
      ],
      "metadata": {
        "colab": {
          "base_uri": "https://localhost:8080/",
          "height": 616
        },
        "id": "eAeIpmeej_hi",
        "outputId": "d29c9780-7661-4c12-83e4-9133ed79d876"
      },
      "execution_count": null,
      "outputs": [
        {
          "output_type": "error",
          "ename": "KeyError",
          "evalue": "'Class'",
          "traceback": [
            "\u001b[0;31m---------------------------------------------------------------------------\u001b[0m",
            "\u001b[0;31mKeyError\u001b[0m                                  Traceback (most recent call last)",
            "\u001b[0;32m/usr/local/lib/python3.11/dist-packages/pandas/core/indexes/base.py\u001b[0m in \u001b[0;36mget_loc\u001b[0;34m(self, key)\u001b[0m\n\u001b[1;32m   3804\u001b[0m         \u001b[0;32mtry\u001b[0m\u001b[0;34m:\u001b[0m\u001b[0;34m\u001b[0m\u001b[0;34m\u001b[0m\u001b[0m\n\u001b[0;32m-> 3805\u001b[0;31m             \u001b[0;32mreturn\u001b[0m \u001b[0mself\u001b[0m\u001b[0;34m.\u001b[0m\u001b[0m_engine\u001b[0m\u001b[0;34m.\u001b[0m\u001b[0mget_loc\u001b[0m\u001b[0;34m(\u001b[0m\u001b[0mcasted_key\u001b[0m\u001b[0;34m)\u001b[0m\u001b[0;34m\u001b[0m\u001b[0;34m\u001b[0m\u001b[0m\n\u001b[0m\u001b[1;32m   3806\u001b[0m         \u001b[0;32mexcept\u001b[0m \u001b[0mKeyError\u001b[0m \u001b[0;32mas\u001b[0m \u001b[0merr\u001b[0m\u001b[0;34m:\u001b[0m\u001b[0;34m\u001b[0m\u001b[0;34m\u001b[0m\u001b[0m\n",
            "\u001b[0;32mindex.pyx\u001b[0m in \u001b[0;36mpandas._libs.index.IndexEngine.get_loc\u001b[0;34m()\u001b[0m\n",
            "\u001b[0;32mindex.pyx\u001b[0m in \u001b[0;36mpandas._libs.index.IndexEngine.get_loc\u001b[0;34m()\u001b[0m\n",
            "\u001b[0;32mpandas/_libs/hashtable_class_helper.pxi\u001b[0m in \u001b[0;36mpandas._libs.hashtable.PyObjectHashTable.get_item\u001b[0;34m()\u001b[0m\n",
            "\u001b[0;32mpandas/_libs/hashtable_class_helper.pxi\u001b[0m in \u001b[0;36mpandas._libs.hashtable.PyObjectHashTable.get_item\u001b[0;34m()\u001b[0m\n",
            "\u001b[0;31mKeyError\u001b[0m: 'Class'",
            "\nThe above exception was the direct cause of the following exception:\n",
            "\u001b[0;31mKeyError\u001b[0m                                  Traceback (most recent call last)",
            "\u001b[0;32m<ipython-input-1-cc92847bfd65>\u001b[0m in \u001b[0;36m<cell line: 0>\u001b[0;34m()\u001b[0m\n\u001b[1;32m     12\u001b[0m \u001b[0;34m\u001b[0m\u001b[0m\n\u001b[1;32m     13\u001b[0m \u001b[0;31m# Basic EDA\u001b[0m\u001b[0;34m\u001b[0m\u001b[0;34m\u001b[0m\u001b[0m\n\u001b[0;32m---> 14\u001b[0;31m \u001b[0mprint\u001b[0m\u001b[0;34m(\u001b[0m\u001b[0mdf\u001b[0m\u001b[0;34m[\u001b[0m\u001b[0;34m'Class'\u001b[0m\u001b[0;34m]\u001b[0m\u001b[0;34m.\u001b[0m\u001b[0mvalue_counts\u001b[0m\u001b[0;34m(\u001b[0m\u001b[0;34m)\u001b[0m\u001b[0;34m)\u001b[0m  \u001b[0;31m# 0 = legitimate, 1 = fraud\u001b[0m\u001b[0;34m\u001b[0m\u001b[0;34m\u001b[0m\u001b[0m\n\u001b[0m\u001b[1;32m     15\u001b[0m \u001b[0;34m\u001b[0m\u001b[0m\n\u001b[1;32m     16\u001b[0m \u001b[0;31m# Features and Target\u001b[0m\u001b[0;34m\u001b[0m\u001b[0;34m\u001b[0m\u001b[0m\n",
            "\u001b[0;32m/usr/local/lib/python3.11/dist-packages/pandas/core/frame.py\u001b[0m in \u001b[0;36m__getitem__\u001b[0;34m(self, key)\u001b[0m\n\u001b[1;32m   4100\u001b[0m             \u001b[0;32mif\u001b[0m \u001b[0mself\u001b[0m\u001b[0;34m.\u001b[0m\u001b[0mcolumns\u001b[0m\u001b[0;34m.\u001b[0m\u001b[0mnlevels\u001b[0m \u001b[0;34m>\u001b[0m \u001b[0;36m1\u001b[0m\u001b[0;34m:\u001b[0m\u001b[0;34m\u001b[0m\u001b[0;34m\u001b[0m\u001b[0m\n\u001b[1;32m   4101\u001b[0m                 \u001b[0;32mreturn\u001b[0m \u001b[0mself\u001b[0m\u001b[0;34m.\u001b[0m\u001b[0m_getitem_multilevel\u001b[0m\u001b[0;34m(\u001b[0m\u001b[0mkey\u001b[0m\u001b[0;34m)\u001b[0m\u001b[0;34m\u001b[0m\u001b[0;34m\u001b[0m\u001b[0m\n\u001b[0;32m-> 4102\u001b[0;31m             \u001b[0mindexer\u001b[0m \u001b[0;34m=\u001b[0m \u001b[0mself\u001b[0m\u001b[0;34m.\u001b[0m\u001b[0mcolumns\u001b[0m\u001b[0;34m.\u001b[0m\u001b[0mget_loc\u001b[0m\u001b[0;34m(\u001b[0m\u001b[0mkey\u001b[0m\u001b[0;34m)\u001b[0m\u001b[0;34m\u001b[0m\u001b[0;34m\u001b[0m\u001b[0m\n\u001b[0m\u001b[1;32m   4103\u001b[0m             \u001b[0;32mif\u001b[0m \u001b[0mis_integer\u001b[0m\u001b[0;34m(\u001b[0m\u001b[0mindexer\u001b[0m\u001b[0;34m)\u001b[0m\u001b[0;34m:\u001b[0m\u001b[0;34m\u001b[0m\u001b[0;34m\u001b[0m\u001b[0m\n\u001b[1;32m   4104\u001b[0m                 \u001b[0mindexer\u001b[0m \u001b[0;34m=\u001b[0m \u001b[0;34m[\u001b[0m\u001b[0mindexer\u001b[0m\u001b[0;34m]\u001b[0m\u001b[0;34m\u001b[0m\u001b[0;34m\u001b[0m\u001b[0m\n",
            "\u001b[0;32m/usr/local/lib/python3.11/dist-packages/pandas/core/indexes/base.py\u001b[0m in \u001b[0;36mget_loc\u001b[0;34m(self, key)\u001b[0m\n\u001b[1;32m   3810\u001b[0m             ):\n\u001b[1;32m   3811\u001b[0m                 \u001b[0;32mraise\u001b[0m \u001b[0mInvalidIndexError\u001b[0m\u001b[0;34m(\u001b[0m\u001b[0mkey\u001b[0m\u001b[0;34m)\u001b[0m\u001b[0;34m\u001b[0m\u001b[0;34m\u001b[0m\u001b[0m\n\u001b[0;32m-> 3812\u001b[0;31m             \u001b[0;32mraise\u001b[0m \u001b[0mKeyError\u001b[0m\u001b[0;34m(\u001b[0m\u001b[0mkey\u001b[0m\u001b[0;34m)\u001b[0m \u001b[0;32mfrom\u001b[0m \u001b[0merr\u001b[0m\u001b[0;34m\u001b[0m\u001b[0;34m\u001b[0m\u001b[0m\n\u001b[0m\u001b[1;32m   3813\u001b[0m         \u001b[0;32mexcept\u001b[0m \u001b[0mTypeError\u001b[0m\u001b[0;34m:\u001b[0m\u001b[0;34m\u001b[0m\u001b[0;34m\u001b[0m\u001b[0m\n\u001b[1;32m   3814\u001b[0m             \u001b[0;31m# If we have a listlike key, _check_indexing_error will raise\u001b[0m\u001b[0;34m\u001b[0m\u001b[0;34m\u001b[0m\u001b[0m\n",
            "\u001b[0;31mKeyError\u001b[0m: 'Class'"
          ]
        }
      ]
    },
    {
      "cell_type": "code",
      "source": [
        "import pandas as pd\n",
        "import numpy as np\n",
        "from sklearn.model_selection import train_test_split\n",
        "from sklearn.preprocessing import StandardScaler\n",
        "from sklearn.linear_model import LogisticRegression\n",
        "from sklearn.tree import DecisionTreeClassifier\n",
        "from sklearn.ensemble import RandomForestClassifier\n",
        "from sklearn.metrics import classification_report, confusion_matrix, accuracy_score\n",
        "\n",
        "# Load the dataset\n",
        "df = pd.read_csv(\"/content/fraudTrain.csv\")  # Update path if needed\n",
        "\n",
        "# Print the available columns to check for the correct target column name\n",
        "print(df.columns)\n",
        "\n",
        "# Basic EDA\n",
        "# Replace 'Class' with the actual name of the target column from the output above\n",
        "target_column_name = 'is_fraud'  # Example: Replace with the actual column name\n",
        "print(df[target_column_name].value_counts())  # 0 = legitimate, 1 = fraud\n",
        "\n",
        "# Features and Target\n",
        "X = df.drop([target_column_name], axis=1)\n",
        "y = df[target_column_name]\n",
        "\n",
        "# Select only numerical features for scaling\n",
        "numerical_features = X.select_dtypes(include=np.number).columns\n",
        "X_numerical = X[numerical_features]\n",
        "\n",
        "# Standardize the numerical features\n",
        "scaler = StandardScaler()\n",
        "X_scaled = scaler.fit_transform(X_numerical)\n",
        "\n",
        "# Create a new DataFrame with scaled numerical features\n",
        "X_scaled_df = pd.DataFrame(X_scaled, columns=numerical_features, index=X.index)\n",
        "\n",
        "# Concatenate scaled numerical features with non-numerical features (if any)\n",
        "X_processed = pd.concat([X_scaled_df, X.drop(columns=numerical_features)], axis=1)\n",
        "\n",
        "# --- Handle datetime columns ---\n",
        "# Assuming 'trans_date_trans_time' is the datetime column\n",
        "# Convert to datetime objects and extract features\n",
        "X_processed['trans_date_trans_time'] = pd.to_datetime(X_processed['trans_date_trans_time'])\n",
        "X_processed['transaction_hour'] = X_processed['trans_date_trans_time'].dt.hour\n",
        "X_processed['transaction_dayofweek'] = X_processed['trans_date_trans_time'].dt.dayofweek\n",
        "# ... extract other relevant features (e.g., month, year) ...\n",
        "\n",
        "# Drop the original datetime column\n",
        "X_processed = X_processed.drop(columns=['trans_date_trans_time'])\n",
        "\n",
        "X_processed = X_processed[y.notna()]\n",
        "y = y[y.notna()]\n",
        "\n",
        "# Train-Test Split\n",
        "X_train, X_test, y_train, y_test = train_test_split(X_processed, y, test_size=0.3, stratify=y, random_state=42)\n",
        "\n",
        "# --------------------------\n",
        "# Logistic Regression Model\n",
        "# --------------------------\n",
        "log_model = LogisticRegression(max_iter=1000)\n",
        "log_model.fit(X_train, y_train)\n",
        "log_preds = log_model.predict(X_test)\n",
        "\n",
        "print(\"\\nLogistic Regression:\")\n",
        "print(classification_report(y_test, log_preds))\n",
        "\n",
        "# --------------------------\n",
        "# Decision Tree Model\n",
        "# --------------------------\n",
        "tree_model = DecisionTreeClassifier(max_depth=5, random_state=42)\n",
        "tree_model.fit(X_train, y_train)\n",
        "tree_preds = tree_model.predict(X_test)\n",
        "\n",
        "print(\"\\nDecision Tree:\")\n",
        "print(classification_report(y_test, tree_preds))\n",
        "\n",
        "# --------------------------\n",
        "# Random Forest Model\n",
        "# --------------------------\n",
        "rf_model = RandomForestClassifier(n_estimators=100, random_state=42)\n",
        "rf_model.fit(X_train, y_train)\n",
        "rf_preds = rf_model.predict(X_test)\n",
        "\n",
        "print(\"\\nRandom Forest:\")\n",
        "print(classification_report(y_test, rf_preds))\n",
        "\n",
        "# --------------------------\n",
        "# Confusion Matrix & Accuracy\n",
        "# --------------------------\n",
        "print(\"\\nRandom Forest Confusion Matrix:\\n\", confusion_matrix(y_test, rf_preds))\n",
        "print(\"Random Forest Accuracy:\", accuracy_score(y_test, rf_preds))"
      ],
      "metadata": {
        "colab": {
          "base_uri": "https://localhost:8080/",
          "height": 790
        },
        "id": "qs-5JohxAxLR",
        "outputId": "e3f9221a-3a78-4518-8b8a-26754781108f"
      },
      "execution_count": null,
      "outputs": [
        {
          "output_type": "stream",
          "name": "stdout",
          "text": [
            "Index(['Unnamed: 0', 'trans_date_trans_time', 'cc_num', 'merchant', 'category',\n",
            "       'amt', 'first', 'last', 'gender', 'street', 'city', 'state', 'zip',\n",
            "       'lat', 'long', 'city_pop', 'job', 'dob', 'trans_num', 'unix_time',\n",
            "       'merch_lat', 'merch_long', 'is_fraud'],\n",
            "      dtype='object')\n",
            "is_fraud\n",
            "0.0    219433\n",
            "1.0      1754\n",
            "Name: count, dtype: int64\n"
          ]
        },
        {
          "output_type": "error",
          "ename": "ValueError",
          "evalue": "time data \"2019-04-22 03\" doesn't match format \"%Y-%m-%d %H:%M:%S\", at position 221187. You might want to try:\n    - passing `format` if your strings have a consistent format;\n    - passing `format='ISO8601'` if your strings are all ISO8601 but not necessarily in exactly the same format;\n    - passing `format='mixed'`, and the format will be inferred for each element individually. You might want to use `dayfirst` alongside this.",
          "traceback": [
            "\u001b[0;31m---------------------------------------------------------------------------\u001b[0m",
            "\u001b[0;31mValueError\u001b[0m                                Traceback (most recent call last)",
            "\u001b[0;32m<ipython-input-7-de2e159190b3>\u001b[0m in \u001b[0;36m<cell line: 0>\u001b[0;34m()\u001b[0m\n\u001b[1;32m     40\u001b[0m \u001b[0;31m# Assuming 'trans_date_trans_time' is the datetime column\u001b[0m\u001b[0;34m\u001b[0m\u001b[0;34m\u001b[0m\u001b[0m\n\u001b[1;32m     41\u001b[0m \u001b[0;31m# Convert to datetime objects and extract features\u001b[0m\u001b[0;34m\u001b[0m\u001b[0;34m\u001b[0m\u001b[0m\n\u001b[0;32m---> 42\u001b[0;31m \u001b[0mX_processed\u001b[0m\u001b[0;34m[\u001b[0m\u001b[0;34m'trans_date_trans_time'\u001b[0m\u001b[0;34m]\u001b[0m \u001b[0;34m=\u001b[0m \u001b[0mpd\u001b[0m\u001b[0;34m.\u001b[0m\u001b[0mto_datetime\u001b[0m\u001b[0;34m(\u001b[0m\u001b[0mX_processed\u001b[0m\u001b[0;34m[\u001b[0m\u001b[0;34m'trans_date_trans_time'\u001b[0m\u001b[0;34m]\u001b[0m\u001b[0;34m)\u001b[0m\u001b[0;34m\u001b[0m\u001b[0;34m\u001b[0m\u001b[0m\n\u001b[0m\u001b[1;32m     43\u001b[0m \u001b[0mX_processed\u001b[0m\u001b[0;34m[\u001b[0m\u001b[0;34m'transaction_hour'\u001b[0m\u001b[0;34m]\u001b[0m \u001b[0;34m=\u001b[0m \u001b[0mX_processed\u001b[0m\u001b[0;34m[\u001b[0m\u001b[0;34m'trans_date_trans_time'\u001b[0m\u001b[0;34m]\u001b[0m\u001b[0;34m.\u001b[0m\u001b[0mdt\u001b[0m\u001b[0;34m.\u001b[0m\u001b[0mhour\u001b[0m\u001b[0;34m\u001b[0m\u001b[0;34m\u001b[0m\u001b[0m\n\u001b[1;32m     44\u001b[0m \u001b[0mX_processed\u001b[0m\u001b[0;34m[\u001b[0m\u001b[0;34m'transaction_dayofweek'\u001b[0m\u001b[0;34m]\u001b[0m \u001b[0;34m=\u001b[0m \u001b[0mX_processed\u001b[0m\u001b[0;34m[\u001b[0m\u001b[0;34m'trans_date_trans_time'\u001b[0m\u001b[0;34m]\u001b[0m\u001b[0;34m.\u001b[0m\u001b[0mdt\u001b[0m\u001b[0;34m.\u001b[0m\u001b[0mdayofweek\u001b[0m\u001b[0;34m\u001b[0m\u001b[0;34m\u001b[0m\u001b[0m\n",
            "\u001b[0;32m/usr/local/lib/python3.11/dist-packages/pandas/core/tools/datetimes.py\u001b[0m in \u001b[0;36mto_datetime\u001b[0;34m(arg, errors, dayfirst, yearfirst, utc, format, exact, unit, infer_datetime_format, origin, cache)\u001b[0m\n\u001b[1;32m   1065\u001b[0m             \u001b[0mresult\u001b[0m \u001b[0;34m=\u001b[0m \u001b[0marg\u001b[0m\u001b[0;34m.\u001b[0m\u001b[0mmap\u001b[0m\u001b[0;34m(\u001b[0m\u001b[0mcache_array\u001b[0m\u001b[0;34m)\u001b[0m\u001b[0;34m\u001b[0m\u001b[0;34m\u001b[0m\u001b[0m\n\u001b[1;32m   1066\u001b[0m         \u001b[0;32melse\u001b[0m\u001b[0;34m:\u001b[0m\u001b[0;34m\u001b[0m\u001b[0;34m\u001b[0m\u001b[0m\n\u001b[0;32m-> 1067\u001b[0;31m             \u001b[0mvalues\u001b[0m \u001b[0;34m=\u001b[0m \u001b[0mconvert_listlike\u001b[0m\u001b[0;34m(\u001b[0m\u001b[0marg\u001b[0m\u001b[0;34m.\u001b[0m\u001b[0m_values\u001b[0m\u001b[0;34m,\u001b[0m \u001b[0mformat\u001b[0m\u001b[0;34m)\u001b[0m\u001b[0;34m\u001b[0m\u001b[0;34m\u001b[0m\u001b[0m\n\u001b[0m\u001b[1;32m   1068\u001b[0m             \u001b[0mresult\u001b[0m \u001b[0;34m=\u001b[0m \u001b[0marg\u001b[0m\u001b[0;34m.\u001b[0m\u001b[0m_constructor\u001b[0m\u001b[0;34m(\u001b[0m\u001b[0mvalues\u001b[0m\u001b[0;34m,\u001b[0m \u001b[0mindex\u001b[0m\u001b[0;34m=\u001b[0m\u001b[0marg\u001b[0m\u001b[0;34m.\u001b[0m\u001b[0mindex\u001b[0m\u001b[0;34m,\u001b[0m \u001b[0mname\u001b[0m\u001b[0;34m=\u001b[0m\u001b[0marg\u001b[0m\u001b[0;34m.\u001b[0m\u001b[0mname\u001b[0m\u001b[0;34m)\u001b[0m\u001b[0;34m\u001b[0m\u001b[0;34m\u001b[0m\u001b[0m\n\u001b[1;32m   1069\u001b[0m     \u001b[0;32melif\u001b[0m \u001b[0misinstance\u001b[0m\u001b[0;34m(\u001b[0m\u001b[0marg\u001b[0m\u001b[0;34m,\u001b[0m \u001b[0;34m(\u001b[0m\u001b[0mABCDataFrame\u001b[0m\u001b[0;34m,\u001b[0m \u001b[0mabc\u001b[0m\u001b[0;34m.\u001b[0m\u001b[0mMutableMapping\u001b[0m\u001b[0;34m)\u001b[0m\u001b[0;34m)\u001b[0m\u001b[0;34m:\u001b[0m\u001b[0;34m\u001b[0m\u001b[0;34m\u001b[0m\u001b[0m\n",
            "\u001b[0;32m/usr/local/lib/python3.11/dist-packages/pandas/core/tools/datetimes.py\u001b[0m in \u001b[0;36m_convert_listlike_datetimes\u001b[0;34m(arg, format, name, utc, unit, errors, dayfirst, yearfirst, exact)\u001b[0m\n\u001b[1;32m    431\u001b[0m     \u001b[0;31m# `format` could be inferred, or user didn't ask for mixed-format parsing.\u001b[0m\u001b[0;34m\u001b[0m\u001b[0;34m\u001b[0m\u001b[0m\n\u001b[1;32m    432\u001b[0m     \u001b[0;32mif\u001b[0m \u001b[0mformat\u001b[0m \u001b[0;32mis\u001b[0m \u001b[0;32mnot\u001b[0m \u001b[0;32mNone\u001b[0m \u001b[0;32mand\u001b[0m \u001b[0mformat\u001b[0m \u001b[0;34m!=\u001b[0m \u001b[0;34m\"mixed\"\u001b[0m\u001b[0;34m:\u001b[0m\u001b[0;34m\u001b[0m\u001b[0;34m\u001b[0m\u001b[0m\n\u001b[0;32m--> 433\u001b[0;31m         \u001b[0;32mreturn\u001b[0m \u001b[0m_array_strptime_with_fallback\u001b[0m\u001b[0;34m(\u001b[0m\u001b[0marg\u001b[0m\u001b[0;34m,\u001b[0m \u001b[0mname\u001b[0m\u001b[0;34m,\u001b[0m \u001b[0mutc\u001b[0m\u001b[0;34m,\u001b[0m \u001b[0mformat\u001b[0m\u001b[0;34m,\u001b[0m \u001b[0mexact\u001b[0m\u001b[0;34m,\u001b[0m \u001b[0merrors\u001b[0m\u001b[0;34m)\u001b[0m\u001b[0;34m\u001b[0m\u001b[0;34m\u001b[0m\u001b[0m\n\u001b[0m\u001b[1;32m    434\u001b[0m \u001b[0;34m\u001b[0m\u001b[0m\n\u001b[1;32m    435\u001b[0m     result, tz_parsed = objects_to_datetime64(\n",
            "\u001b[0;32m/usr/local/lib/python3.11/dist-packages/pandas/core/tools/datetimes.py\u001b[0m in \u001b[0;36m_array_strptime_with_fallback\u001b[0;34m(arg, name, utc, fmt, exact, errors)\u001b[0m\n\u001b[1;32m    465\u001b[0m     \u001b[0mCall\u001b[0m \u001b[0marray_strptime\u001b[0m\u001b[0;34m,\u001b[0m \u001b[0;32mwith\u001b[0m \u001b[0mfallback\u001b[0m \u001b[0mbehavior\u001b[0m \u001b[0mdepending\u001b[0m \u001b[0mon\u001b[0m \u001b[0;34m'errors'\u001b[0m\u001b[0;34m.\u001b[0m\u001b[0;34m\u001b[0m\u001b[0;34m\u001b[0m\u001b[0m\n\u001b[1;32m    466\u001b[0m     \"\"\"\n\u001b[0;32m--> 467\u001b[0;31m     \u001b[0mresult\u001b[0m\u001b[0;34m,\u001b[0m \u001b[0mtz_out\u001b[0m \u001b[0;34m=\u001b[0m \u001b[0marray_strptime\u001b[0m\u001b[0;34m(\u001b[0m\u001b[0marg\u001b[0m\u001b[0;34m,\u001b[0m \u001b[0mfmt\u001b[0m\u001b[0;34m,\u001b[0m \u001b[0mexact\u001b[0m\u001b[0;34m=\u001b[0m\u001b[0mexact\u001b[0m\u001b[0;34m,\u001b[0m \u001b[0merrors\u001b[0m\u001b[0;34m=\u001b[0m\u001b[0merrors\u001b[0m\u001b[0;34m,\u001b[0m \u001b[0mutc\u001b[0m\u001b[0;34m=\u001b[0m\u001b[0mutc\u001b[0m\u001b[0;34m)\u001b[0m\u001b[0;34m\u001b[0m\u001b[0;34m\u001b[0m\u001b[0m\n\u001b[0m\u001b[1;32m    468\u001b[0m     \u001b[0;32mif\u001b[0m \u001b[0mtz_out\u001b[0m \u001b[0;32mis\u001b[0m \u001b[0;32mnot\u001b[0m \u001b[0;32mNone\u001b[0m\u001b[0;34m:\u001b[0m\u001b[0;34m\u001b[0m\u001b[0;34m\u001b[0m\u001b[0m\n\u001b[1;32m    469\u001b[0m         \u001b[0munit\u001b[0m \u001b[0;34m=\u001b[0m \u001b[0mnp\u001b[0m\u001b[0;34m.\u001b[0m\u001b[0mdatetime_data\u001b[0m\u001b[0;34m(\u001b[0m\u001b[0mresult\u001b[0m\u001b[0;34m.\u001b[0m\u001b[0mdtype\u001b[0m\u001b[0;34m)\u001b[0m\u001b[0;34m[\u001b[0m\u001b[0;36m0\u001b[0m\u001b[0;34m]\u001b[0m\u001b[0;34m\u001b[0m\u001b[0;34m\u001b[0m\u001b[0m\n",
            "\u001b[0;32mstrptime.pyx\u001b[0m in \u001b[0;36mpandas._libs.tslibs.strptime.array_strptime\u001b[0;34m()\u001b[0m\n",
            "\u001b[0;32mstrptime.pyx\u001b[0m in \u001b[0;36mpandas._libs.tslibs.strptime.array_strptime\u001b[0;34m()\u001b[0m\n",
            "\u001b[0;32mstrptime.pyx\u001b[0m in \u001b[0;36mpandas._libs.tslibs.strptime._parse_with_format\u001b[0;34m()\u001b[0m\n",
            "\u001b[0;31mValueError\u001b[0m: time data \"2019-04-22 03\" doesn't match format \"%Y-%m-%d %H:%M:%S\", at position 221187. You might want to try:\n    - passing `format` if your strings have a consistent format;\n    - passing `format='ISO8601'` if your strings are all ISO8601 but not necessarily in exactly the same format;\n    - passing `format='mixed'`, and the format will be inferred for each element individually. You might want to use `dayfirst` alongside this."
          ]
        }
      ]
    },
    {
      "cell_type": "code",
      "source": [
        "import pandas as pd\n",
        "from sklearn.model_selection import train_test_split\n",
        "from sklearn.preprocessing import StandardScaler\n",
        "from sklearn.linear_model import LogisticRegression\n",
        "from sklearn.tree import DecisionTreeClassifier\n",
        "from sklearn.ensemble import RandomForestClassifier\n",
        "from sklearn.metrics import classification_report, confusion_matrix, accuracy_score\n",
        "from sklearn.impute import SimpleImputer # Import SimpleImputer\n",
        "\n",
        "# Step 1: Load the data\n",
        "# Added error_bad_lines=False to skip problematic lines\n",
        "train_df = pd.read_csv('/content/fraudTrain.csv', on_bad_lines='skip')\n",
        "test_df = pd.read_csv('/content/fraudTest.csv', on_bad_lines='skip')\n",
        "\n",
        "# Step 2: Separate features and target\n",
        "X_train = train_df.drop('is_fraud', axis=1)\n",
        "y_train = train_df['is_fraud']\n",
        "X_test = test_df.drop('is_fraud', axis=1)\n",
        "y_test = test_df['is_fraud']\n",
        "\n",
        "# Step 3: Preprocess data (handle datetime and categorical features)\n",
        "def preprocess_data(df):\n",
        "    # Convert 'trans_date_trans_time' to datetime and extract features\n",
        "    # Using errors='coerce' to handle invalid date formats\n",
        "    df['trans_date_trans_time'] = pd.to_datetime(df['trans_date_trans_time'], errors='coerce')\n",
        "    df['transaction_hour'] = df['trans_date_trans_time'].dt.hour\n",
        "    df['transaction_dayofweek'] = df['trans_date_trans_time'].dt.dayofweek\n",
        "    # ... extract other relevant datetime features if needed ...\n",
        "\n",
        "    # Drop the original 'trans_date_trans_time' column\n",
        "    df = df.drop(columns=['trans_date_trans_time'])\n",
        "\n",
        "    # One-hot encode categorical features (if any) using pd.get_dummies()\n",
        "    # Example:\n",
        "    # categorical_features = ['category_column1', 'category_column2']\n",
        "    # df = pd.get_dummies(df, columns=categorical_features, drop_first=True)\n",
        "\n",
        "    # Select only numerical features for scaling\n",
        "    numerical_features = df.select_dtypes(include=['number']).columns\n",
        "    df_numerical = df[numerical_features]\n",
        "\n",
        "    return df_numerical\n",
        "\n",
        "X_train_processed = preprocess_data(X_train)\n",
        "X_test_processed = preprocess_data(X_test)\n",
        "\n",
        "# Step 4: Impute missing values and Standardize numerical features\n",
        "# Create an imputer to fill NaN values with the mean of each column\n",
        "imputer = SimpleImputer(strategy='mean') # Create SimpleImputer object\n",
        "\n",
        "# Fit the imputer on the training data and transform both train and test data\n",
        "X_train_imputed = imputer.fit_transform(X_train_processed) # Fit and transform training data\n",
        "X_test_imputed = imputer.transform(X_test_processed) # Transform test data\n",
        "\n",
        "scaler = StandardScaler()\n",
        "X_train_scaled = scaler.fit_transform(X_train_imputed) # Scale imputed training data\n",
        "X_test_scaled = scaler.transform(X_test_imputed) # Scale imputed test data\n",
        "\n",
        "# --- Remove rows with NaN in y_train ---\n",
        "# Before training, remove rows from X_train_scaled and y_train where y_train has NaN values\n",
        "X_train_scaled = X_train_scaled[y_train.notna()]\n",
        "y_train = y_train[y_train.notna()]\n",
        "\n",
        "# --- Remove rows with NaN in y_test ---\n",
        "# Before evaluating, remove rows from X_test_scaled and y_test where y_test has NaN values\n",
        "X_test_scaled = X_test_scaled[y_test.notna()]\n",
        "y_test = y_test[y_test.notna()] # Removing NaN values from y_test\n",
        "\n",
        "\n",
        "# Step 5: Train models\n",
        "models = {\n",
        "    \"Logistic Regression\": LogisticRegression(max_iter=1000),\n",
        "    \"Decision Tree\": DecisionTreeClassifier(),\n",
        "    \"Random Forest\": RandomForestClassifier(n_estimators=100)\n",
        "}\n",
        "\n",
        "# Step 6: Evaluate models\n",
        "for name, model in models.items():\n",
        "    model.fit(X_train_scaled, y_train)\n",
        "    y_pred = model.predict(X_test_scaled)\n",
        "\n",
        "    print(f\"\\nModel: {name}\")\n",
        "    print(\"Accuracy:\", accuracy_score(y_test, y_pred))\n",
        "    print(\"Classification Report:\")\n",
        "    print(classification_report(y_test, y_pred))\n",
        "    print(\"Confusion Matrix:\")\n",
        "    print(confusion_matrix(y_test, y_pred))"
      ],
      "metadata": {
        "colab": {
          "base_uri": "https://localhost:8080/"
        },
        "id": "LGKPJAZRBwlM",
        "outputId": "4af7a5fa-1071-4b5e-f1c9-a1a38bb3b6f9"
      },
      "execution_count": null,
      "outputs": [
        {
          "output_type": "stream",
          "name": "stdout",
          "text": [
            "\n",
            "Model: Logistic Regression\n",
            "Accuracy: 0.995704663687943\n",
            "Classification Report:\n",
            "              precision    recall  f1-score   support\n",
            "\n",
            "           0       1.00      1.00      1.00    553574\n",
            "           1       0.00      0.00      0.00      2145\n",
            "\n",
            "    accuracy                           1.00    555719\n",
            "   macro avg       0.50      0.50      0.50    555719\n",
            "weighted avg       0.99      1.00      0.99    555719\n",
            "\n",
            "Confusion Matrix:\n",
            "[[553332    242]\n",
            " [  2145      0]]\n",
            "\n",
            "Model: Decision Tree\n",
            "Accuracy: 0.9288993178206971\n",
            "Classification Report:\n",
            "              precision    recall  f1-score   support\n",
            "\n",
            "           0       1.00      0.93      0.96    553574\n",
            "           1       0.02      0.42      0.04      2145\n",
            "\n",
            "    accuracy                           0.93    555719\n",
            "   macro avg       0.51      0.67      0.50    555719\n",
            "weighted avg       0.99      0.93      0.96    555719\n",
            "\n",
            "Confusion Matrix:\n",
            "[[515308  38266]\n",
            " [  1246    899]]\n",
            "\n",
            "Model: Random Forest\n",
            "Accuracy: 0.9969283036930535\n",
            "Classification Report:\n",
            "              precision    recall  f1-score   support\n",
            "\n",
            "           0       1.00      1.00      1.00    553574\n",
            "           1       0.77      0.29      0.42      2145\n",
            "\n",
            "    accuracy                           1.00    555719\n",
            "   macro avg       0.88      0.65      0.71    555719\n",
            "weighted avg       1.00      1.00      1.00    555719\n",
            "\n",
            "Confusion Matrix:\n",
            "[[553384    190]\n",
            " [  1517    628]]\n"
          ]
        }
      ]
    },
    {
      "cell_type": "code",
      "source": [
        "import matplotlib.pyplot as plt\n",
        "import seaborn as sns\n",
        "from sklearn.metrics import precision_score, recall_score, f1_score\n",
        "\n",
        "# Step 7: Collect performance metrics for plotting\n",
        "results = []\n",
        "\n",
        "for name, model in models.items():\n",
        "    model.fit(X_train_scaled, y_train)\n",
        "    y_pred = model.predict(X_test_scaled)\n",
        "\n",
        "    results.append({\n",
        "        \"Model\": name,\n",
        "        \"Accuracy\": accuracy_score(y_test, y_pred),\n",
        "        \"Precision\": precision_score(y_test, y_pred, zero_division=0),\n",
        "        \"Recall\": recall_score(y_test, y_pred, zero_division=0),\n",
        "        \"F1 Score\": f1_score(y_test, y_pred, zero_division=0)\n",
        "    })\n",
        "\n",
        "# Convert results to a DataFrame\n",
        "results_df = pd.DataFrame(results)\n",
        "\n",
        "# Step 8: Plot model comparison\n",
        "metrics = ['Accuracy', 'Precision', 'Recall', 'F1 Score']\n",
        "plt.figure(figsize=(12, 8))\n",
        "for metric in metrics:\n",
        "    plt.figure(figsize=(8, 5))\n",
        "    sns.barplot(x='Model', y=metric, data=results_df, palette='viridis')\n",
        "    plt.title(f'Model Comparison - {metric}')\n",
        "    plt.ylabel(metric)\n",
        "    plt.ylim(0, 1)\n",
        "    plt.xticks(rotation=45)\n",
        "    plt.tight_layout()\n",
        "    plt.show()\n"
      ],
      "metadata": {
        "colab": {
          "base_uri": "https://localhost:8080/",
          "height": 1000
        },
        "id": "wBpHc-M5Zs7l",
        "outputId": "4a0cc991-3a69-4fb1-e8bd-87486057ed83"
      },
      "execution_count": null,
      "outputs": [
        {
          "output_type": "stream",
          "name": "stderr",
          "text": [
            "<ipython-input-8-113bff0441f9>:28: FutureWarning: \n",
            "\n",
            "Passing `palette` without assigning `hue` is deprecated and will be removed in v0.14.0. Assign the `x` variable to `hue` and set `legend=False` for the same effect.\n",
            "\n",
            "  sns.barplot(x='Model', y=metric, data=results_df, palette='viridis')\n"
          ]
        },
        {
          "output_type": "display_data",
          "data": {
            "text/plain": [
              "<Figure size 1200x800 with 0 Axes>"
            ]
          },
          "metadata": {}
        },
        {
          "output_type": "display_data",
          "data": {
            "text/plain": [
              "<Figure size 800x500 with 1 Axes>"
            ],
            "image/png": "[encoded data removed]"
          },
          "metadata": {}
        },
        {
          "output_type": "stream",
          "name": "stderr",
          "text": [
            "<ipython-input-8-113bff0441f9>:28: FutureWarning: \n",
            "\n",
            "Passing `palette` without assigning `hue` is deprecated and will be removed in v0.14.0. Assign the `x` variable to `hue` and set `legend=False` for the same effect.\n",
            "\n",
            "  sns.barplot(x='Model', y=metric, data=results_df, palette='viridis')\n"
          ]
        },
        {
          "output_type": "display_data",
          "data": {
            "text/plain": [
              "<Figure size 800x500 with 1 Axes>"
            ],
            "image/png": "[encoded data removed]"
          },
          "metadata": {}
        },
        {
          "output_type": "stream",
          "name": "stderr",
          "text": [
            "<ipython-input-8-113bff0441f9>:28: FutureWarning: \n",
            "\n",
            "Passing `palette` without assigning `hue` is deprecated and will be removed in v0.14.0. Assign the `x` variable to `hue` and set `legend=False` for the same effect.\n",
            "\n",
            "  sns.barplot(x='Model', y=metric, data=results_df, palette='viridis')\n"
          ]
        },
        {
          "output_type": "display_data",
          "data": {
            "text/plain": [
              "<Figure size 800x500 with 1 Axes>"
            ],
            "image/png": "[encoded data removed]"
          },
          "metadata": {}
        },
        {
          "output_type": "stream",
          "name": "stderr",
          "text": [
            "<ipython-input-8-113bff0441f9>:28: FutureWarning: \n",
            "\n",
            "Passing `palette` without assigning `hue` is deprecated and will be removed in v0.14.0. Assign the `x` variable to `hue` and set `legend=False` for the same effect.\n",
            "\n",
            "  sns.barplot(x='Model', y=metric, data=results_df, palette='viridis')\n"
          ]
        },
        {
          "output_type": "display_data",
          "data": {
            "text/plain": [
              "<Figure size 800x500 with 1 Axes>"
            ],
            "image/png": "[encoded data removed]"
          },
          "metadata": {}
        }
      ]
    },
    {
      "cell_type": "code",
      "source": [
        "# prompt: plot graph\n",
        "\n",
        "import matplotlib.pyplot as plt\n",
        "import seaborn as sns\n",
        "from sklearn.metrics import confusion_matrix\n",
        "from sklearn.ensemble import RandomForestClassifier # Import RandomForestClassifier\n",
        "\n",
        "# Assuming 'X_test_scaled', 'y_test' are defined from the previous code\n",
        "# Since 'rf_model' was not defined, we need to create and train it here\n",
        "rf_model = RandomForestClassifier(n_estimators=100)  # Create the model\n",
        "rf_model.fit(X_train_scaled, y_train)  # Assuming X_train_scaled, y_train are available from previous cell\n",
        "rf_preds = rf_model.predict(X_test_scaled)\n",
        "\n",
        "cm = confusion_matrix(y_test, rf_preds)\n",
        "\n",
        "plt.figure(figsize=(8, 6))\n",
        "sns.heatmap(cm, annot=True, fmt=\"d\", cmap=\"Blues\",\n",
        "            xticklabels=['Legitimate', 'Fraud'],\n",
        "            yticklabels=['Legitimate', 'Fraud'])\n",
        "plt.xlabel(\"Predicted\")\n",
        "plt.ylabel(\"Actual\")\n",
        "plt.title(\"Confusion Matrix for Random Forest\")\n",
        "plt.show()"
      ],
      "metadata": {
        "colab": {
          "base_uri": "https://localhost:8080/",
          "height": 559
        },
        "id": "uuhcOvxtID48",
        "outputId": "04852034-bcb5-4b13-e7d6-d410cdb18e72"
      },
      "execution_count": null,
      "outputs": [
        {
          "output_type": "display_data",
          "data": {
            "text/plain": [
              "<Figure size 800x600 with 2 Axes>"
            ],
            "image/png": "[encoded data removed]"
          },
          "metadata": {}
        }
      ]
    },
    {
      "cell_type": "code",
      "source": [
        "# prompt: compare model performance graphically\n",
        "\n",
        "import matplotlib.pyplot as plt\n",
        "from sklearn.metrics import accuracy_score # Import accuracy_score\n",
        "from sklearn.linear_model import LogisticRegression  # Import LogisticRegression\n",
        "from sklearn.tree import DecisionTreeClassifier  # Import DecisionTreeClassifier\n",
        "from sklearn.ensemble import RandomForestClassifier  # Import RandomForestClassifier\n",
        "import pandas as pd # Import pandas\n",
        "from sklearn.model_selection import train_test_split # Import train_test_split\n",
        "from sklearn.preprocessing import StandardScaler # Import StandardScaler\n",
        "from sklearn.impute import SimpleImputer # Import SimpleImputer\n",
        "\n",
        "# Load the data (if not already loaded)\n",
        "# Added error_bad_lines=False to skip problematic lines\n",
        "train_df = pd.read_csv('/content/fraudTrain.csv', on_bad_lines='skip')\n",
        "test_df = pd.read_csv('/content/fraudTest.csv', on_bad_lines='skip')\n",
        "\n",
        "# Separate features and target\n",
        "X_train = train_df.drop('is_fraud', axis=1)\n",
        "y_train = train_df['is_fraud']\n",
        "X_test = test_df.drop('is_fraud', axis=1)\n",
        "y_test = test_df['is_fraud']\n",
        "\n",
        "# Preprocess data (if not already preprocessed)\n",
        "def preprocess_data(df):\n",
        "    # ... (Your preprocess_data function as before) ...\n",
        "\n",
        "X_train_processed = preprocess_data(X_train)\n",
        "X_test_processed = preprocess_data(X_test)\n",
        "\n",
        "# Impute and scale (if not already done)\n",
        "imputer = SimpleImputer(strategy='mean')\n",
        "X_train_imputed = imputer.fit_transform(X_train_processed)\n",
        "X_test_imputed = imputer.transform(X_test_processed)\n",
        "\n",
        "scaler = StandardScaler()\n",
        "X_train_scaled = scaler.fit_transform(X_train_imputed)\n",
        "X_test_scaled = scaler.transform(X_test_imputed)\n",
        "\n",
        "# Remove NaN values from y_train and y_test (if not already done)\n",
        "X_train_scaled = X_train_scaled[y_train.notna()]\n",
        "y_train = y_train[y_train.notna()]\n",
        "X_test_scaled = X_test_scaled[y_test.notna()]\n",
        "y_test = y_test[y_test.notna()]\n",
        "\n",
        "\n",
        "# Re-initialize models\n",
        "models = {\n",
        "    \"Logistic Regression\": LogisticRegression(max_iter=1000),\n",
        "    \"Decision Tree\": DecisionTreeClassifier(),\n",
        "    \"Random Forest\": RandomForestClassifier(n_estimators=100)\n",
        "}\n",
        "\n",
        "# Fit and evaluate models\n",
        "model_names = list(models.keys())\n",
        "accuracies = []\n",
        "\n",
        "for name, model in models.items():\n",
        "    # Fit each model before prediction\n",
        "    model.fit(X_train_scaled, y_train)\n",
        "    y_pred = model.predict(X_test_scaled)\n",
        "    accuracies.append(accuracy_score(y_test, y_pred))\n",
        "\n",
        "\n",
        "# Plotting the accuracies\n",
        "plt.figure(figsize=(10, 6))\n",
        "plt.bar(model_names, accuracies, color=['skyblue', 'lightcoral', 'lightgreen'])\n",
        "plt.xlabel(\"Models\")\n",
        "plt.ylabel(\"Accuracy\")\n",
        "plt.title(\"Comparison of Model Accuracies\")\n",
        "plt.ylim(0, 1)\n",
        "plt.show()"
      ],
      "metadata": {
        "colab": {
          "base_uri": "https://localhost:8080/",
          "height": 106
        },
        "id": "wROe5tc9Ip3A",
        "outputId": "86fc9b3b-1ca7-47e3-e61b-2111684750a5"
      },
      "execution_count": null,
      "outputs": [
        {
          "output_type": "error",
          "ename": "IndentationError",
          "evalue": "expected an indented block after function definition on line 25 (<ipython-input-3-c615e4dee257>, line 28)",
          "traceback": [
            "\u001b[0;36m  File \u001b[0;32m\"<ipython-input-3-c615e4dee257>\"\u001b[0;36m, line \u001b[0;32m28\u001b[0m\n\u001b[0;31m    X_train_processed = preprocess_data(X_train)\u001b[0m\n\u001b[0m    ^\u001b[0m\n\u001b[0;31mIndentationError\u001b[0m\u001b[0;31m:\u001b[0m expected an indented block after function definition on line 25\n"
          ]
        }
      ]
    },
    {
      "cell_type": "code",
      "source": [],
      "metadata": {
        "id": "v0Wx1kYvYeXI"
      },
      "execution_count": null,
      "outputs": []
    }
  ]
}